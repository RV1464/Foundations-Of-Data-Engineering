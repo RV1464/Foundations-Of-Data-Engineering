{
 "cells": [
  {
   "cell_type": "code",
   "execution_count": 1,
   "id": "12d629db-1cdb-4c56-bcfa-27862b57e6b3",
   "metadata": {},
   "outputs": [],
   "source": [
    "import numpy as np\n",
    "import pandas as pd\n",
    "import matplotlib.pyplot as plt\n",
    "from sklearn.preprocessing import MinMaxScaler"
   ]
  },
  {
   "cell_type": "code",
   "execution_count": 2,
   "id": "ad7f8027-a0df-4fe4-b602-752e600f59ce",
   "metadata": {},
   "outputs": [],
   "source": [
    "np.random.seed(100)\n",
    "n_samples = 25\n",
    "student_ids = np.arange(1001, 1001 + n_samples)\n",
    "courses = ['CSE', 'ECE', 'IOT', 'IT', 'ADS']\n",
    "ug_courses = np.random.choice(courses, n_samples)"
   ]
  },
  {
   "cell_type": "code",
   "execution_count": 3,
   "id": "4fdebbf3-e292-42c0-a3db-f3fd79f92c97",
   "metadata": {},
   "outputs": [],
   "source": [
    "data = {\n",
    "    'Student ID': student_ids,\n",
    "    'Height (cm)': np.random.randint(150, 191, n_samples),\n",
    "    'Weight (kg)': np.random.randint(45, 91, n_samples),\n",
    "    'UG Course': ug_courses,\n",
    "    'UG CGPA': np.round(np.random.uniform(6.0, 10.0, n_samples), 2)\n",
    "}\n",
    "\n",
    "df = pd.DataFrame(data)\n",
    "df.to_csv(\"student_profile_dataset.csv\", index=False)"
   ]
  },
  {
   "cell_type": "code",
   "execution_count": 4,
   "id": "54130de4-1564-4be4-88e0-331d3c3054b0",
   "metadata": {},
   "outputs": [
    {
     "data": {
      "text/html": [
       "<div>\n",
       "<style scoped>\n",
       "    .dataframe tbody tr th:only-of-type {\n",
       "        vertical-align: middle;\n",
       "    }\n",
       "\n",
       "    .dataframe tbody tr th {\n",
       "        vertical-align: top;\n",
       "    }\n",
       "\n",
       "    .dataframe thead th {\n",
       "        text-align: right;\n",
       "    }\n",
       "</style>\n",
       "<table border=\"1\" class=\"dataframe\">\n",
       "  <thead>\n",
       "    <tr style=\"text-align: right;\">\n",
       "      <th></th>\n",
       "      <th>Student ID</th>\n",
       "      <th>Height (cm)</th>\n",
       "      <th>Weight (kg)</th>\n",
       "      <th>UG Course</th>\n",
       "      <th>UG CGPA</th>\n",
       "    </tr>\n",
       "  </thead>\n",
       "  <tbody>\n",
       "    <tr>\n",
       "      <th>0</th>\n",
       "      <td>1001</td>\n",
       "      <td>163</td>\n",
       "      <td>58</td>\n",
       "      <td>CSE</td>\n",
       "      <td>6.95</td>\n",
       "    </tr>\n",
       "    <tr>\n",
       "      <th>1</th>\n",
       "      <td>1002</td>\n",
       "      <td>169</td>\n",
       "      <td>87</td>\n",
       "      <td>CSE</td>\n",
       "      <td>6.18</td>\n",
       "    </tr>\n",
       "    <tr>\n",
       "      <th>2</th>\n",
       "      <td>1003</td>\n",
       "      <td>186</td>\n",
       "      <td>75</td>\n",
       "      <td>IT</td>\n",
       "      <td>8.02</td>\n",
       "    </tr>\n",
       "    <tr>\n",
       "      <th>3</th>\n",
       "      <td>1004</td>\n",
       "      <td>154</td>\n",
       "      <td>62</td>\n",
       "      <td>CSE</td>\n",
       "      <td>7.51</td>\n",
       "    </tr>\n",
       "    <tr>\n",
       "      <th>4</th>\n",
       "      <td>1005</td>\n",
       "      <td>177</td>\n",
       "      <td>49</td>\n",
       "      <td>IOT</td>\n",
       "      <td>8.37</td>\n",
       "    </tr>\n",
       "  </tbody>\n",
       "</table>\n",
       "</div>"
      ],
      "text/plain": [
       "   Student ID  Height (cm)  Weight (kg) UG Course  UG CGPA\n",
       "0        1001          163           58       CSE     6.95\n",
       "1        1002          169           87       CSE     6.18\n",
       "2        1003          186           75        IT     8.02\n",
       "3        1004          154           62       CSE     7.51\n",
       "4        1005          177           49       IOT     8.37"
      ]
     },
     "execution_count": 4,
     "metadata": {},
     "output_type": "execute_result"
    }
   ],
   "source": [
    "df.head()"
   ]
  },
  {
   "cell_type": "code",
   "execution_count": 5,
   "id": "96df9319-c148-4ff6-9d22-35dbf592e641",
   "metadata": {},
   "outputs": [],
   "source": [
    "features_to_normalize = ['Height (cm)', 'Weight (kg)', 'UG CGPA']\n",
    "scaler = MinMaxScaler()\n",
    "normalized_values = scaler.fit_transform(df[features_to_normalize])\n",
    "\n",
    "df_normalized = pd.concat(\n",
    "    [df[['Student ID', 'UG Course']],\n",
    "     pd.DataFrame(normalized_values, columns=features_to_normalize)],\n",
    "    axis=1\n",
    ")"
   ]
  },
  {
   "cell_type": "code",
   "execution_count": 6,
   "id": "51c7d8ad-a1bb-4968-b9db-320dfdbe2f81",
   "metadata": {},
   "outputs": [
    {
     "data": {
      "text/html": [
       "<div>\n",
       "<style scoped>\n",
       "    .dataframe tbody tr th:only-of-type {\n",
       "        vertical-align: middle;\n",
       "    }\n",
       "\n",
       "    .dataframe tbody tr th {\n",
       "        vertical-align: top;\n",
       "    }\n",
       "\n",
       "    .dataframe thead th {\n",
       "        text-align: right;\n",
       "    }\n",
       "</style>\n",
       "<table border=\"1\" class=\"dataframe\">\n",
       "  <thead>\n",
       "    <tr style=\"text-align: right;\">\n",
       "      <th></th>\n",
       "      <th>Student ID</th>\n",
       "      <th>UG Course</th>\n",
       "      <th>Height (cm)</th>\n",
       "      <th>Weight (kg)</th>\n",
       "      <th>UG CGPA</th>\n",
       "    </tr>\n",
       "  </thead>\n",
       "  <tbody>\n",
       "    <tr>\n",
       "      <th>0</th>\n",
       "      <td>1001</td>\n",
       "      <td>CSE</td>\n",
       "      <td>0.333333</td>\n",
       "      <td>0.302326</td>\n",
       "      <td>0.208672</td>\n",
       "    </tr>\n",
       "    <tr>\n",
       "      <th>1</th>\n",
       "      <td>1002</td>\n",
       "      <td>CSE</td>\n",
       "      <td>0.487179</td>\n",
       "      <td>0.976744</td>\n",
       "      <td>0.000000</td>\n",
       "    </tr>\n",
       "    <tr>\n",
       "      <th>2</th>\n",
       "      <td>1003</td>\n",
       "      <td>IT</td>\n",
       "      <td>0.923077</td>\n",
       "      <td>0.697674</td>\n",
       "      <td>0.498645</td>\n",
       "    </tr>\n",
       "    <tr>\n",
       "      <th>3</th>\n",
       "      <td>1004</td>\n",
       "      <td>CSE</td>\n",
       "      <td>0.102564</td>\n",
       "      <td>0.395349</td>\n",
       "      <td>0.360434</td>\n",
       "    </tr>\n",
       "    <tr>\n",
       "      <th>4</th>\n",
       "      <td>1005</td>\n",
       "      <td>IOT</td>\n",
       "      <td>0.692308</td>\n",
       "      <td>0.093023</td>\n",
       "      <td>0.593496</td>\n",
       "    </tr>\n",
       "  </tbody>\n",
       "</table>\n",
       "</div>"
      ],
      "text/plain": [
       "   Student ID UG Course  Height (cm)  Weight (kg)   UG CGPA\n",
       "0        1001       CSE     0.333333     0.302326  0.208672\n",
       "1        1002       CSE     0.487179     0.976744  0.000000\n",
       "2        1003        IT     0.923077     0.697674  0.498645\n",
       "3        1004       CSE     0.102564     0.395349  0.360434\n",
       "4        1005       IOT     0.692308     0.093023  0.593496"
      ]
     },
     "execution_count": 6,
     "metadata": {},
     "output_type": "execute_result"
    }
   ],
   "source": [
    "df_normalized.head()"
   ]
  },
  {
   "cell_type": "code",
   "execution_count": 7,
   "id": "cebf4a4c-4c7e-497e-b41c-a416ec941423",
   "metadata": {},
   "outputs": [
    {
     "data": {
      "image/png": "[encoded data removed]",
      "text/plain": [
       "<Figure size 1200x500 with 2 Axes>"
      ]
     },
     "metadata": {},
     "output_type": "display_data"
    }
   ],
   "source": [
    "plt.figure(figsize=(12, 5))\n",
    "plt.subplot(1, 2, 1)\n",
    "plt.boxplot(df[features_to_normalize].values, labels=features_to_normalize)\n",
    "plt.title(\"Before Normalization\")\n",
    "plt.xticks(rotation=45)\n",
    "\n",
    "plt.subplot(1, 2, 2)\n",
    "plt.boxplot(df_normalized[features_to_normalize].values, labels=features_to_normalize)\n",
    "plt.title(\"After Min-Max Normalization\")\n",
    "plt.xticks(rotation=45)\n",
    "\n",
    "plt.tight_layout()\n",
    "plt.show()"
   ]
  },
  {
   "cell_type": "code",
   "execution_count": null,
   "id": "18cd67d8-d4e0-45c7-9dea-2a99fdaea1fd",
   "metadata": {},
   "outputs": [],
   "source": []
  }
 ],
 "metadata": {
  "kernelspec": {
   "display_name": "Python 3 (ipykernel)",
   "language": "python",
   "name": "python3"
  },
  "language_info": {
   "codemirror_mode": {
    "name": "ipython",
    "version": 3
   },
   "file_extension": ".py",
   "mimetype": "text/x-python",
   "name": "python",
   "nbconvert_exporter": "python",
   "pygments_lexer": "ipython3",
   "version": "3.11.5"
  }
 },
 "nbformat": 4,
 "nbformat_minor": 5
}
